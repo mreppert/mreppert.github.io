{
 "cells": [
  {
   "cell_type": "markdown",
   "metadata": {},
   "source": [
    "# How do I create and manipulate matrices in Python?#\n",
    "\n",
    "Although there are several ways to do this, one of the easiest is to use the NumPy library. NumPy has many built-in commands to create arrays. For example: \n",
    "\n",
    "* `np.array(List)` creates a NumPy array from a Python list. The size and shape of the array depend on the list entries. \n",
    "* `np.eye(N)` creates an NxN identity matrix\n",
    "* `np.random.random((M,N))` creates an MxN matrix of random numbers between 0 and 1\n",
    "\n",
    "NumPy also includes many built-in commands to manipulate arrays in matrix-like ways. For example:\n",
    "* `A+B` gives the **element-wise** sum of two arrays `A` and `B`\n",
    "* `A*B` gives the **element-wise** product of two arrays `A` and `B`\n",
    "* `A@B` gives the **matrix** product of two arrays `A` and `B`\n",
    "* `A.T` or `np.transpose(A)` gives the *transpose* of the array `A`\n",
    "\n",
    "There are many, many things you can do with NumPy arrays! These FAQs will give just a few examples that come up often in our work. "
   ]
  },
  {
   "cell_type": "markdown",
   "metadata": {},
   "source": [
    "# How do I make NumPy matrix printouts easier to read? #\n",
    "\n",
    "Two commands are helpful:\n",
    "* `np.set_printoptions(suppress=True)` will supress the use of scientific notation\n",
    "* `np.set_printoptions(precision=N)` will control the number `N` of decimals to print"
   ]
  },
  {
   "cell_type": "code",
   "execution_count": 12,
   "metadata": {},
   "outputs": [
    {
     "name": "stdout",
     "output_type": "stream",
     "text": [
      "Using scientific notation:\n",
      "[[  2.21e+02   4.93e+02   5.36e+00   2.30e+00]\n",
      " [  4.27e+00   1.22e+02   2.71e+03   1.79e+00]\n",
      " [  8.65e+01   9.00e+02   2.57e+03   7.43e+02]\n",
      " [  1.42e+01   3.84e+01   4.47e+00   6.59e+03]]\n",
      "\n",
      "Suppressing scientific notation:\n",
      "[[  220.95   493.18     5.36     2.3 ]\n",
      " [    4.27   122.    2705.98     1.79]\n",
      " [   86.47   900.48  2569.42   742.66]\n",
      " [   14.18    38.41     4.47  6588.18]]\n",
      "\n",
      "Lowering the print precision:\n",
      "[[  220.95   493.18     5.36     2.3 ]\n",
      " [    4.27   122.    2705.98     1.79]\n",
      " [   86.47   900.48  2569.42   742.66]\n",
      " [   14.18    38.41     4.47  6588.18]]\n",
      "\n"
     ]
    }
   ],
   "source": [
    "import numpy as np\n",
    "\n",
    "A = np.exp(10*np.random.random((4,4)))\n",
    "\n",
    "np.set_printoptions(suppress=False)\n",
    "print('Using scientific notation:')\n",
    "print(A)\n",
    "print()\n",
    "\n",
    "print('Suppressing scientific notation:')\n",
    "np.set_printoptions(suppress=True)\n",
    "print(A)\n",
    "print()\n",
    "\n",
    "print('Lowering the print precision:')\n",
    "np.set_printoptions(precision=2)\n",
    "print(A)\n",
    "print()"
   ]
  },
  {
   "cell_type": "markdown",
   "metadata": {},
   "source": [
    "# How does NumPy array indexing work? #\n",
    "\n",
    "Complete documentation on NumPy indexing can be found at the NumPy project page: https://numpy.org/doc/stable/user/basics.indexing.html. \n",
    "\n",
    "Here we only give a few examples that we find useful. The examples here are for 1D arrays, but indexing works similarly for 2D (or 3D or 4D...) arrays, with commas separating the different dimensions. E.g. `A[0,0]` corresponds to the zeroth row and zeroth column of the array `A`, `A[0,1]` corresponds to the zeroth row and 1th column, etc. \n",
    "\n",
    "#### Note that array indexing in NumPy starts at 0, not at 1! ####"
   ]
  },
  {
   "cell_type": "code",
   "execution_count": 4,
   "metadata": {},
   "outputs": [
    {
     "name": "stdout",
     "output_type": "stream",
     "text": [
      "A:\n",
      "[0 1 2 3 4 5 6 7 8 9]\n",
      "\n",
      "np.shape(A):\n",
      "(10,)\n",
      "\n",
      "Backwards array:\n",
      "[9 8 7 6 5 4 3 2 1 0]\n",
      "\n",
      "First element:\n",
      "0\n",
      "\n",
      "Last element\n",
      "9\n",
      "\n",
      "Penultimate element:\n",
      "8\n",
      "\n",
      "Even elements\n",
      "[0 2 4 6 8]\n",
      "\n",
      "Odd elements\n",
      "[1 3 5 7 9]\n",
      "\n",
      "Every thid element\n",
      "[0 3 6 9]\n",
      "\n",
      "First 4 elements:\n",
      "[0 1 2 3]\n",
      "\n",
      "First 2 even elements:\n",
      "[0 2]\n",
      "\n",
      "Odd elements backwards:\n",
      "[9 7 5 3 1]\n",
      "\n"
     ]
    }
   ],
   "source": [
    "import numpy as np \n",
    "\n",
    "# A contains numbers 0 through 9\n",
    "A = np.arange(0, 10)\n",
    "print('A:')\n",
    "print(A)\n",
    "print()\n",
    "\n",
    "# This is a vector of length 10, i.e., shape is (10,).\n",
    "# Note that (to NumPy) this is different from a matrix \n",
    "# of dimension (10,1), i.e., a 10x1 matrix. \n",
    "print('np.shape(A):')\n",
    "print(np.shape(A))\n",
    "print()\n",
    "\n",
    "print('Backwards array:')\n",
    "print(A[::-1])\n",
    "print()\n",
    "\n",
    "print('First element:')\n",
    "print(A[0])\n",
    "print()\n",
    "\n",
    "print('Last element')\n",
    "print(A[-1])\n",
    "print()\n",
    "\n",
    "print('Penultimate element:')\n",
    "print(A[-2])\n",
    "print()\n",
    "\n",
    "print('Even elements')\n",
    "print(A[0::2])\n",
    "print()\n",
    "\n",
    "print('Odd elements')\n",
    "print(A[1::2])\n",
    "print()\n",
    "\n",
    "print('Every thid element')\n",
    "print(A[0::3])\n",
    "print()\n",
    "\n",
    "print('First 4 elements:')\n",
    "print(A[0:4])\n",
    "print()\n",
    "\n",
    "print('First 2 even elements:')\n",
    "print(A[0:4:2])\n",
    "print()\n",
    "\n",
    "print('Odd elements backwards:')\n",
    "print(A[::-2])\n",
    "print()"
   ]
  },
  {
   "cell_type": "markdown",
   "metadata": {},
   "source": [
    "# How do I calculate a matrix product in Python? #\n",
    "\n",
    "Using the NumPy library, you can apply the `@` symbol:\n"
   ]
  },
  {
   "cell_type": "code",
   "execution_count": 5,
   "metadata": {},
   "outputs": [
    {
     "name": "stdout",
     "output_type": "stream",
     "text": [
      "A:\n",
      "[[1 2]\n",
      " [3 4]]\n",
      "\n",
      "B:\n",
      "[[5 6]\n",
      " [7 8]]\n",
      "\n",
      "A*B: \n",
      "[[ 5 12]\n",
      " [21 32]]\n",
      "\n",
      "A@B: \n",
      "[[19 22]\n",
      " [43 50]]\n",
      "\n",
      "B@A: \n",
      "[[23 34]\n",
      " [31 46]]\n",
      "\n"
     ]
    }
   ],
   "source": [
    "import numpy as np \n",
    "\n",
    "A = np.array([[1, 2], [3,4]])\n",
    "B = np.array([[5, 6], [7,8]])\n",
    "\n",
    "print('A:')\n",
    "print(A)\n",
    "print()\n",
    "\n",
    "print('B:')\n",
    "print(B)\n",
    "print()\n",
    "\n",
    "print('A*B: ')\n",
    "print(A*B)\n",
    "print()\n",
    "\n",
    "print('A@B: ')\n",
    "print(A@B)\n",
    "print()\n",
    "\n",
    "print('B@A: ')\n",
    "print(B@A)\n",
    "print()"
   ]
  },
  {
   "cell_type": "markdown",
   "metadata": {},
   "source": [
    "# How do I calculate a matrix inverse in Python? #\n",
    "\n",
    "Use the `np.linalg.inv()` command:"
   ]
  },
  {
   "cell_type": "code",
   "execution_count": 6,
   "metadata": {},
   "outputs": [
    {
     "name": "stdout",
     "output_type": "stream",
     "text": [
      "Ainv:\n",
      "[[-2.   1. ]\n",
      " [ 1.5 -0.5]]\n",
      "\n",
      "A@Ainv:\n",
      "[[ 1.  0.]\n",
      " [ 0.  1.]]\n"
     ]
    }
   ],
   "source": [
    "# Original matrix\n",
    "A = np.array([[1, 2], [3,4]])\n",
    "\n",
    "# Inverse\n",
    "Ainv = np.linalg.inv(A)\n",
    "\n",
    "print('Ainv:')\n",
    "print(Ainv)\n",
    "print()\n",
    "\n",
    "# The product of the two should be (very nearly) the identity matrix\n",
    "print('A@Ainv:')\n",
    "print(A@Ainv)"
   ]
  },
  {
   "cell_type": "markdown",
   "metadata": {},
   "source": [
    "# How do I calculate eigenvalues and eigenvectors in Python? #\n",
    "\n",
    "Use the `np.linalg.eig` or `np.linalg.eigh` commands:"
   ]
  },
  {
   "cell_type": "code",
   "execution_count": 7,
   "metadata": {},
   "outputs": [
    {
     "name": "stdout",
     "output_type": "stream",
     "text": [
      "A:\n",
      "[[-20  50]\n",
      " [ 50  10]]\n",
      "\n",
      "Eigenvalues:\n",
      "[-57.2  47.2]\n",
      "\n",
      "Eigenvectors:\n",
      "[[-0.8 -0.6]\n",
      " [ 0.6 -0.8]]\n",
      "\n",
      "Diagonalization:\n",
      "[[-57.2   0. ]\n",
      " [  0.   47.2]]\n"
     ]
    }
   ],
   "source": [
    "A = np.array([[-20, 50],[50, 10]])\n",
    "\n",
    "evals, evecs = np.linalg.eigh(A)\n",
    "\n",
    "print('A:')\n",
    "print(A)\n",
    "print()\n",
    "\n",
    "print('Eigenvalues:')\n",
    "print(evals)\n",
    "print()\n",
    "\n",
    "print('Eigenvectors:')\n",
    "print(evecs)\n",
    "print()\n",
    "\n",
    "# evecs.T @ A @ evecs should be a diagonal matrix\n",
    "# whose entries are the eigevectors corresponding\n",
    "# to each eigenvalue:\n",
    "print('Diagonalization:')\n",
    "print(np.transpose(evecs)@A@evecs)"
   ]
  },
  {
   "cell_type": "markdown",
   "metadata": {},
   "source": [
    "# How do I print NumPy arrays to a text file? #\n",
    "\n",
    "The easiest way to do this is probably using `np.savetxt()`. The `delimiter` flag can be used to indicate a customized string to separate the numeric data. (The default is a single white space.)"
   ]
  },
  {
   "cell_type": "code",
   "execution_count": 20,
   "metadata": {},
   "outputs": [
    {
     "name": "stdout",
     "output_type": "stream",
     "text": [
      "[[ 0.6   0.02  0.31  0.89  0.49]\n",
      " [ 0.88  0.01  0.14  0.06  0.47]\n",
      " [ 0.35  0.07  0.59  0.97  0.06]\n",
      " [ 0.17  0.51  0.87  0.4   0.62]\n",
      " [ 0.28  0.98  0.72  0.72  0.31]\n",
      " [ 0.32  0.1   0.31  0.7   0.04]\n",
      " [ 1.    0.6   0.95  0.19  0.64]\n",
      " [ 0.28  0.04  0.08  0.25  0.48]\n",
      " [ 0.31  0.77  0.22  0.67  0.55]\n",
      " [ 0.7   0.86  0.99  0.88  0.02]]\n"
     ]
    }
   ],
   "source": [
    "import numpy as np \n",
    "\n",
    "dat = np.random.random((10,5))\n",
    "print(dat)\n",
    "np.savetxt('default.txt', dat)\n",
    "np.savetxt('tabs.txt', dat, delimiter='\\t')\n",
    "np.savetxt('commas.txt', dat, delimiter=',')\n"
   ]
  },
  {
   "cell_type": "markdown",
   "metadata": {},
   "source": [
    "# How do I control output precision with `np.savetxt()`? #\n",
    "\n",
    "Use the optional `fmt` flag. There are many options here, but as two most important examples: \n",
    "* To keep 5 decimal places, **with** scientific notation, set `fmt='%.5e'`. \n",
    "* To keep 5 decimal places, **without** scientific notation, set `fmt='%.5f'`. \n",
    "You can replace `5` here with however many decimal points you wish to preserve. "
   ]
  },
  {
   "cell_type": "code",
   "execution_count": 28,
   "metadata": {
    "collapsed": true
   },
   "outputs": [],
   "source": [
    "import numpy as np \n",
    "\n",
    "dat = np.random.random((10,5))\n",
    "\n",
    "# One decimal point, no scientific notation:\n",
    "np.savetxt('precision1.txt', dat, fmt='%.1f')\n",
    "\n",
    "# Five decimal points, no scientific notation:\n",
    "np.savetxt('precision5.txt', dat, fmt='%.5f')\n",
    "\n",
    "# Five decimal points, with scientific notation:\n",
    "np.savetxt('precision5sci.txt', dat, fmt='%.5e')"
   ]
  },
  {
   "cell_type": "markdown",
   "metadata": {
    "collapsed": true
   },
   "source": [
    "# How do I load tab-delimited data from a text file into a NumPy array? #\n",
    "\n",
    "There are several ways to do this, but the easiest is probably `np.loadtxt()`. Note that the text file must contain *only* numeric data, with the same number of data points in each line of the file (so that it can be loaded into a rectangular array). "
   ]
  },
  {
   "cell_type": "code",
   "execution_count": 32,
   "metadata": {},
   "outputs": [
    {
     "name": "stdout",
     "output_type": "stream",
     "text": [
      "Original data:\n",
      "[[ 0.9364172975  0.4736766478  0.3954997522  0.2295961172  0.5051098805]\n",
      " [ 0.095599225   0.7531380077  0.4123492077  0.8539660432  0.2580521103]\n",
      " [ 0.7192928198  0.4902830369  0.9877565876  0.2414540092  0.6751003157]\n",
      " [ 0.0967878487  0.8047707196  0.0339582619  0.5756287273  0.4723487975]\n",
      " [ 0.9758369182  0.840540963   0.3166136108  0.5956060309  0.5684113764]\n",
      " [ 0.7213089001  0.0400370272  0.1958339652  0.8556262046  0.8616145738]\n",
      " [ 0.0971277627  0.9474437754  0.4641328625  0.4234104172  0.4627724561]\n",
      " [ 0.1742203323  0.8376111942  0.1049220714  0.3396354636  0.6953630936]\n",
      " [ 0.8158853383  0.8313302568  0.0834473049  0.2550371527  0.1720891566]\n",
      " [ 0.9344406263  0.8608303234  0.1139978681  0.6795782679  0.5558488537]]\n",
      "\n",
      "From 1-decimal precision file:\n",
      "[[ 0.9  0.5  0.4  0.2  0.5]\n",
      " [ 0.1  0.8  0.4  0.9  0.3]\n",
      " [ 0.7  0.5  1.   0.2  0.7]\n",
      " [ 0.1  0.8  0.   0.6  0.5]\n",
      " [ 1.   0.8  0.3  0.6  0.6]\n",
      " [ 0.7  0.   0.2  0.9  0.9]\n",
      " [ 0.1  0.9  0.5  0.4  0.5]\n",
      " [ 0.2  0.8  0.1  0.3  0.7]\n",
      " [ 0.8  0.8  0.1  0.3  0.2]\n",
      " [ 0.9  0.9  0.1  0.7  0.6]]\n",
      "\n",
      "From 5-decimal precision file:\n",
      "[[ 0.93642  0.47368  0.3955   0.2296   0.50511]\n",
      " [ 0.0956   0.75314  0.41235  0.85397  0.25805]\n",
      " [ 0.71929  0.49028  0.98776  0.24145  0.6751 ]\n",
      " [ 0.09679  0.80477  0.03396  0.57563  0.47235]\n",
      " [ 0.97584  0.84054  0.31661  0.59561  0.56841]\n",
      " [ 0.72131  0.04004  0.19583  0.85563  0.86161]\n",
      " [ 0.09713  0.94744  0.46413  0.42341  0.46277]\n",
      " [ 0.17422  0.83761  0.10492  0.33964  0.69536]\n",
      " [ 0.81589  0.83133  0.08345  0.25504  0.17209]\n",
      " [ 0.93444  0.86083  0.114    0.67958  0.55585]]\n",
      "\n"
     ]
    }
   ],
   "source": [
    "import numpy as np \n",
    "\n",
    "# Set print precision to 10 decimals\n",
    "np.set_printoptions(precision=10)\n",
    "\n",
    "dat = np.random.random((10,5))\n",
    "print('Original data:')\n",
    "print(dat)\n",
    "print()\n",
    "\n",
    "# Save the data with two different precisions:\n",
    "np.savetxt('precision1.txt', dat, fmt='%.1f')\n",
    "np.savetxt('precision5.txt', dat, fmt='%.5f')\n",
    "\n",
    "dat1 = np.loadtxt('precision1.txt')\n",
    "print('From 1-decimal precision file:')\n",
    "print(dat1)\n",
    "print()\n",
    "\n",
    "# From 5-decimal precision file:\n",
    "dat5 = np.loadtxt('precision5.txt')\n",
    "print('From 5-decimal precision file:')\n",
    "print(dat5)\n",
    "print()"
   ]
  },
  {
   "cell_type": "markdown",
   "metadata": {},
   "source": [
    "# How do I load comma-delimited data from a text file into a NumPy array? #\n",
    "\n",
    "The syntax is the same as for tab-delimited data, but you must add the flag `delimiter=','`. "
   ]
  },
  {
   "cell_type": "code",
   "execution_count": 34,
   "metadata": {},
   "outputs": [
    {
     "name": "stdout",
     "output_type": "stream",
     "text": [
      "From 5-decimal precision file:\n",
      "[[ 0.13734  0.38584  0.62563  0.40165  0.07293]\n",
      " [ 0.78286  0.7793   0.84418  0.19475  0.28821]\n",
      " [ 0.56998  0.57984  0.0595   0.98685  0.34097]\n",
      " [ 0.02003  0.8407   0.09316  0.83485  0.32105]\n",
      " [ 0.9363   0.30436  0.62536  0.32022  0.97255]\n",
      " [ 0.3708   0.56985  0.83221  0.63474  0.14423]\n",
      " [ 0.96803  0.27683  0.80708  0.49152  0.22155]\n",
      " [ 0.15709  0.27297  0.73944  0.6462   0.54357]\n",
      " [ 0.55036  0.58456  0.65004  0.39913  0.87641]\n",
      " [ 0.55787  0.98461  0.47396  0.15595  0.10621]]\n",
      "\n"
     ]
    }
   ],
   "source": [
    "import numpy as np \n",
    "\n",
    "dat = np.random.random((10,5))\n",
    "np.savetxt('precision5.txt', dat, fmt='%.5f', delimiter=',')\n",
    "\n",
    "# From 5-decimal precision file:\n",
    "dat5 = np.loadtxt('precision5.txt', delimiter=',')\n",
    "print('From 5-decimal precision file:')\n",
    "print(dat5)\n",
    "print()"
   ]
  },
  {
   "cell_type": "code",
   "execution_count": null,
   "metadata": {
    "collapsed": true
   },
   "outputs": [],
   "source": []
  }
 ],
 "metadata": {
  "kernelspec": {
   "display_name": "Python [default]",
   "language": "python",
   "name": "python3"
  },
  "language_info": {
   "codemirror_mode": {
    "name": "ipython",
    "version": 3
   },
   "file_extension": ".py",
   "mimetype": "text/x-python",
   "name": "python",
   "nbconvert_exporter": "python",
   "pygments_lexer": "ipython3",
   "version": "3.6.4"
  }
 },
 "nbformat": 4,
 "nbformat_minor": 2
}
